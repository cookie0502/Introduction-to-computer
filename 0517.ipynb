{
  "nbformat": 4,
  "nbformat_minor": 0,
  "metadata": {
    "colab": {
      "provenance": [],
      "authorship_tag": "ABX9TyP8wAwZyi6lWMMjmKYdbahx",
      "include_colab_link": true
    },
    "kernelspec": {
      "name": "python3",
      "display_name": "Python 3"
    },
    "language_info": {
      "name": "python"
    }
  },
  "cells": [
    {
      "cell_type": "markdown",
      "metadata": {
        "id": "view-in-github",
        "colab_type": "text"
      },
      "source": [
        "<a href=\"https://colab.research.google.com/github/cookie0502/Introduction-to-computer/blob/main/0517.ipynb\" target=\"_parent\"><img src=\"https://colab.research.google.com/assets/colab-badge.svg\" alt=\"Open In Colab\"/></a>"
      ]
    },
    {
      "cell_type": "code",
      "execution_count": null,
      "metadata": {
        "colab": {
          "base_uri": "https://localhost:8080/"
        },
        "id": "RBJFaK5Fx7Uy",
        "outputId": "49aed18a-8852-45b1-dd29-642ee0a29531"
      },
      "outputs": [
        {
          "output_type": "stream",
          "name": "stdout",
          "text": [
            "0517\n"
          ]
        }
      ],
      "source": [
        "print(\"0517\")"
      ]
    },
    {
      "cell_type": "code",
      "source": [
        "score=int(input(\"score:\"))\n",
        "if score >=90:\n",
        "  print('Grade is:A')\n",
        "elif score >=80:\n",
        "  print('Grade is:B')\n",
        "elif score >=70:\n",
        "  print('Grade is:C')\n",
        "elif score >=60:\n",
        "  print('Grade is:D')\n",
        "else:\n",
        "  print('Grade is:F')"
      ],
      "metadata": {
        "colab": {
          "base_uri": "https://localhost:8080/"
        },
        "id": "oi7VWUa4zFTy",
        "outputId": "c6598409-13ab-4aba-847a-8c0a098418c6"
      },
      "execution_count": null,
      "outputs": [
        {
          "output_type": "stream",
          "name": "stdout",
          "text": [
            "score:50\n",
            "Grade is:F\n"
          ]
        }
      ]
    },
    {
      "cell_type": "code",
      "source": [
        "month = int(input(\"請輸入月份:\"))\n",
        "if month >=3 and month <=5:\n",
        "     print(\"春季\")\n",
        "elif month >=6 and month <=8:\n",
        "     print(\"夏季\")\n",
        "elif month >=9 and month <=11:\n",
        "     print(\"秋季\")\n",
        "elif month ==12 or (month >=1 and month <=2):\n",
        "     print(\"冬季\")\n",
        "else:\n",
        "  print(\"無效月份\")\n"
      ],
      "metadata": {
        "id": "r92_olbL2CVS",
        "colab": {
          "base_uri": "https://localhost:8080/"
        },
        "outputId": "2f394b1c-26c7-4c23-bcbd-f0a89e1a7308"
      },
      "execution_count": 20,
      "outputs": [
        {
          "output_type": "stream",
          "name": "stdout",
          "text": [
            "請輸入月份:13\n",
            "無效月份\n"
          ]
        }
      ]
    },
    {
      "cell_type": "code",
      "source": [
        "score = int(input(\"score:\"))\n",
        "if score >= 90 :\n",
        " print ('Grade is :A')\n",
        "elif score >=80 :\n",
        "  print ('Grade is :B')\n",
        "elif score >= 70 :\n",
        "  print ('Grade is :C')\n",
        "elif score >= 60 :\n",
        "  print ('Grade is :D')\n",
        "else :\n",
        "  print ('Grade is :E')"
      ],
      "metadata": {
        "colab": {
          "base_uri": "https://localhost:8080/"
        },
        "id": "i6u8G2zGoN9V",
        "outputId": "6f3954e0-2e79-4813-a5e8-4104fff68064"
      },
      "execution_count": 22,
      "outputs": [
        {
          "output_type": "stream",
          "name": "stdout",
          "text": [
            "score:50\n",
            "Grade is :E\n"
          ]
        }
      ]
    },
    {
      "cell_type": "code",
      "source": [
        "請輸入今年收入淨額=int(input(\"請輸入今年收入淨額:\"))\n",
        "if 請輸入今年收入淨額>=2000000:\n",
        "     print(\"付稅金額:\",請輸入今年收入淨額*0.3,'元')\n",
        "elif 請輸入今年收入淨額>=1000000:\n",
        "     print(\"付稅金額:\",請輸入今年收入淨額*0.21,'元')\n",
        "elif 請輸入今年收入淨額>=6000000:\n",
        "     print(\"付稅金額:\",請輸入今年收入淨額*0.13,'元')\n",
        "elif 請輸入今年收入淨額>=3000000:\n",
        "     print(\"付稅金額:\",請輸入今年收入淨額*0.06,'元')\n",
        "else:\n",
        "  print(\"不用繳稅\")"
      ],
      "metadata": {
        "colab": {
          "base_uri": "https://localhost:8080/"
        },
        "id": "gtmYN1ZPd5eB",
        "outputId": "1d2ec572-9d2e-4037-8ee6-c9804cb3cb70"
      },
      "execution_count": null,
      "outputs": [
        {
          "output_type": "stream",
          "name": "stdout",
          "text": [
            "請輸入今年收入淨額:4000000\n",
            "付稅金額: 1200000.0 元\n"
          ]
        }
      ]
    },
    {
      "cell_type": "code",
      "source": [
        "體溫=int(input(\"體溫:\"))\n",
        "if 體溫 >=37.5:\n",
        "   print('體溫過高!')\n",
        "elif 體溫>=37:\n",
        "   print('體溫略高!')\n",
        "elif 體溫>=34:\n",
        "   print('體溫正常!')\n",
        "else:\n",
        "  print('重新測量!')"
      ],
      "metadata": {
        "colab": {
          "base_uri": "https://localhost:8080/"
        },
        "id": "i_LrQIXkllGT",
        "outputId": "5dfe2e1b-9ec5-4ad4-a373-8dd284ba59af"
      },
      "execution_count": null,
      "outputs": [
        {
          "output_type": "stream",
          "name": "stdout",
          "text": [
            "體溫:33\n",
            "重新測量!\n"
          ]
        }
      ]
    }
  ]
}